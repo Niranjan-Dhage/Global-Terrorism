{
  "nbformat": 4,
  "nbformat_minor": 0,
  "metadata": {
    "colab": {
      "private_outputs": true,
      "provenance": [],
      "include_colab_link": true
    },
    "kernelspec": {
      "name": "python3",
      "display_name": "Python 3"
    },
    "language_info": {
      "name": "python"
    }
  },
  "cells": [
    {
      "cell_type": "markdown",
      "metadata": {
        "id": "view-in-github",
        "colab_type": "text"
      },
      "source": [
        "<a href=\"https://colab.research.google.com/github/Niranjan-Dhage/Global-Terrorism/blob/main/Global_Terrorism_Capstone_Project.ipynb\" target=\"_parent\"><img src=\"https://colab.research.google.com/assets/colab-badge.svg\" alt=\"Open In Colab\"/></a>"
      ]
    },
    {
      "cell_type": "markdown",
      "source": [
        "# **Project Name**    - Global Terrorism Capstone Project\n",
        "\n"
      ],
      "metadata": {
        "id": "vncDsAP0Gaoa"
      }
    },
    {
      "cell_type": "markdown",
      "source": [
        "##### **Project Type**    - EDA\n",
        "##### **Contribution**    - Team\n",
        "##### **Team Member 1 -** Niranjan Dhage\n",
        "##### **Team Member 2 -** Vaibhav Mande\n",
        "##### **Team Member 3 -** Mayuri Patil\n",
        "\n",
        "\n"
      ],
      "metadata": {
        "id": "beRrZCGUAJYm"
      }
    },
    {
      "cell_type": "markdown",
      "source": [
        "# **Project Summary -**"
      ],
      "metadata": {
        "id": "FJNUwmbgGyua"
      }
    },
    {
      "cell_type": "markdown",
      "source": [
        "In this EDA project, we were provided with the Global Terrorism Database (GTD) which is a database including information on terrorist events around the world from 1970 through 2017. Unlike many other event databases, the GTD includes systematic data on domestic as well as international terrorist incidents that have occurred during this time period and now includes more than 181,000 cases.\n",
        "\n",
        "In this project we are doing the exploratory data analysis on the global terrorisam database to find out various insights of terrorism activity and their effect over region,country and city.\n",
        "Also we did some visualizations for easy understandings of the analysis.\n",
        "\n",
        "After analyzing the cleaned data, we divided the project into various types of analysis. The first is the analysis based on Trend of Terrorrism Per Year the second is the analysis based on Most affected areas of Terrorism. Third analysis based on Terrorist Organization and the last analysis is based on country.\n",
        "\n",
        "In the EDA we have conclude that after 2011 there is a large growth recorded in terrorist activity and 2014 appears to be a witness of huge terrorist attack.\n",
        "\n"
      ],
      "metadata": {
        "id": "F6v_1wHtG2nS"
      }
    },
    {
      "cell_type": "markdown",
      "source": [
        "# **GitHub Link -**"
      ],
      "metadata": {
        "id": "w6K7xa23Elo4"
      }
    },
    {
      "cell_type": "markdown",
      "source": [
        "https://github.com/Niranjan-Dhage/Global-Terrorism.git"
      ],
      "metadata": {
        "id": "h1o69JH3Eqqn"
      }
    },
    {
      "cell_type": "markdown",
      "source": [
        "# **Problem Statement**\n"
      ],
      "metadata": {
        "id": "yQaldy8SH6Dl"
      }
    },
    {
      "cell_type": "markdown",
      "source": [
        "***The Global Terrorism Database (GTD) is an open-source database including information on terrorist attacks around the world from 1970 through 2017. The GTD includes systematic data on domestic as well as international terrorist incidents that have occurred during this time period and now includes more than 180,000 attacks. The database is maintained by researchers at the National Consortium for the Study of Terrorism and Responses to Terrorism (START), headquartered at the University of Maryland.***\n",
        "\n",
        "***Explore and analyze the data to discover key findings pertaining to terrorist activities***"
      ],
      "metadata": {
        "id": "DpeJGUA3kjGy"
      }
    },
    {
      "cell_type": "markdown",
      "source": [
        "#### **Define Your Business Objective?**"
      ],
      "metadata": {
        "id": "PH-0ReGfmX4f"
      }
    },
    {
      "cell_type": "markdown",
      "source": [
        "1.Studies in Conflict and Terrorism aims to cast new light on the origins and implications of conflict in the 21st Century and to illuminate new approaches and solutions to countering the growth and escalation of contemporary sub-state violence.\n",
        "\n",
        "2.The main objective of the project is to find out the effect of terrorism in the world and spread awareness to reduce the violence"
      ],
      "metadata": {
        "id": "PhDvGCAqmjP1"
      }
    },
    {
      "cell_type": "markdown",
      "source": [
        "# **General Guidelines** : -  "
      ],
      "metadata": {
        "id": "mDgbUHAGgjLW"
      }
    },
    {
      "cell_type": "markdown",
      "source": [
        "1.   Well-structured, formatted, and commented code is required. \n",
        "2.   Exception Handling, Production Grade Code & Deployment Ready Code will be a plus. Those students will be awarded some additional credits. \n",
        "     \n",
        "     The additional credits will have advantages over other students during Star Student selection.\n",
        "       \n",
        "             [ Note: - Deployment Ready Code is defined as, the whole .ipynb notebook should be executable in one go\n",
        "                       without a single error logged. ]\n",
        "\n",
        "3.   Each and every logic should have proper comments.\n",
        "4. You may add as many number of charts you want. Make Sure for each and every chart the following format should be answered.\n",
        "        \n",
        "\n",
        "```\n",
        "# Chart visualization code\n",
        "```\n",
        "            \n",
        "\n",
        "*   Why did you pick the specific chart?\n",
        "*   What is/are the insight(s) found from the chart?\n",
        "* Will the gained insights help creating a positive business impact? \n",
        "Are there any insights that lead to negative growth? Justify with specific reason.\n",
        "\n",
        "5. You have to create at least 20 logical & meaningful charts having important insights.\n",
        "\n",
        "\n",
        "[ Hints : - Do the Vizualization in  a structured way while following \"UBM\" Rule. \n",
        "\n",
        "U - Univariate Analysis,\n",
        "\n",
        "B - Bivariate Analysis (Numerical - Categorical, Numerical - Numerical, Categorical - Categorical)\n",
        "\n",
        "M - Multivariate Analysis\n",
        " ]\n",
        "\n",
        "\n",
        "\n"
      ],
      "metadata": {
        "id": "ZrxVaUj-hHfC"
      }
    },
    {
      "cell_type": "markdown",
      "source": [
        "# ***Let's Begin !***"
      ],
      "metadata": {
        "id": "O_i_v8NEhb9l"
      }
    },
    {
      "cell_type": "markdown",
      "source": [
        "## ***1. Know Your Data***"
      ],
      "metadata": {
        "id": "HhfV-JJviCcP"
      }
    },
    {
      "cell_type": "markdown",
      "source": [
        "### Import Libraries"
      ],
      "metadata": {
        "id": "Y3lxredqlCYt"
      }
    },
    {
      "cell_type": "code",
      "source": [
        "# Import Libraries\n",
        "import numpy as np\n",
        "import pandas as pd\n",
        "import matplotlib.pyplot as plt\n",
        "import seaborn as sns\n",
        "%matplotlib inline"
      ],
      "metadata": {
        "id": "M8Vqi-pPk-HR"
      },
      "execution_count": null,
      "outputs": []
    },
    {
      "cell_type": "markdown",
      "source": [
        "### Dataset Loading"
      ],
      "metadata": {
        "id": "3RnN4peoiCZX"
      }
    },
    {
      "cell_type": "code",
      "source": [
        "# Load Dataset"
      ],
      "metadata": {
        "id": "4CkvbW_SlZ_R"
      },
      "execution_count": null,
      "outputs": []
    },
    {
      "cell_type": "code",
      "source": [
        "from google.colab import drive\n",
        "drive.mount('/content/drive')"
      ],
      "metadata": {
        "id": "-03nBBcJZckh"
      },
      "execution_count": null,
      "outputs": []
    },
    {
      "cell_type": "code",
      "source": [
        "df=pd.read_csv('/content/drive/MyDrive/Copy of Global Terrorism Data.csv',encoding=\"ISO-8859-1\")"
      ],
      "metadata": {
        "id": "jPn_JnSiZ1Hy"
      },
      "execution_count": null,
      "outputs": []
    },
    {
      "cell_type": "code",
      "source": [
        "df.head()"
      ],
      "metadata": {
        "id": "t-MSzekiyvRh"
      },
      "execution_count": null,
      "outputs": []
    },
    {
      "cell_type": "markdown",
      "source": [
        "### Dataset Rows & Columns count"
      ],
      "metadata": {
        "id": "7hBIi_osiCS2"
      }
    },
    {
      "cell_type": "code",
      "source": [
        "# Dataset Rows & Columns count\n",
        "df.shape"
      ],
      "metadata": {
        "id": "Kllu7SJgmLij"
      },
      "execution_count": null,
      "outputs": []
    },
    {
      "cell_type": "markdown",
      "source": [
        "### Dataset Description"
      ],
      "metadata": {
        "id": "qfBBYxofW8Hx"
      }
    },
    {
      "cell_type": "code",
      "source": [
        "# Dataset Describe\n",
        "df.describe()"
      ],
      "metadata": {
        "id": "uiOJyOhKyqfB"
      },
      "execution_count": null,
      "outputs": []
    },
    {
      "cell_type": "markdown",
      "source": [
        "### Dataset Information"
      ],
      "metadata": {
        "id": "3i6ssos6XJ8J"
      }
    },
    {
      "cell_type": "code",
      "source": [
        "df.info()"
      ],
      "metadata": {
        "id": "QbC-wOLDzC8z"
      },
      "execution_count": null,
      "outputs": []
    },
    {
      "cell_type": "code",
      "source": [
        "df.isnull().sum()"
      ],
      "metadata": {
        "id": "6uM68Zv52Wn8"
      },
      "execution_count": null,
      "outputs": []
    },
    {
      "cell_type": "markdown",
      "source": [
        "Duplicates Values"
      ],
      "metadata": {
        "id": "O36BRjQua5tM"
      }
    },
    {
      "cell_type": "code",
      "source": [
        "# Dataset Duplicate Value Count\n",
        "df['eventid'].duplicated().sum()"
      ],
      "metadata": {
        "id": "wKqh8IklaCpn"
      },
      "execution_count": null,
      "outputs": []
    },
    {
      "cell_type": "markdown",
      "source": [
        "## ***2. Understanding Your Variables***"
      ],
      "metadata": {
        "id": "oVMx33iFVBjd"
      }
    },
    {
      "cell_type": "code",
      "source": [
        "# Dataset Columns\n",
        "df.columns"
      ],
      "metadata": {
        "id": "EfhjvWPvyyh9"
      },
      "execution_count": null,
      "outputs": []
    },
    {
      "cell_type": "markdown",
      "source": [
        "###**What did you know about your dataset?**"
      ],
      "metadata": {
        "id": "6oX6dAA-NmIV"
      }
    },
    {
      "cell_type": "markdown",
      "source": [
        "In the Global Terrorism Database there are 181691 rows which describe the number of attacks happen between year 1970 to 2017. And there are 135 columns which includes various information about the terrorism.\n",
        "\n",
        "There is not a single duplicate event in the dataset.\n",
        "\n",
        "Also there are some null valus in the various column. so we have to replace it with zero for further calculations."
      ],
      "metadata": {
        "id": "G6KfSuYNNsKh"
      }
    },
    {
      "cell_type": "markdown",
      "source": [
        "##**3. Data Wrangling**"
      ],
      "metadata": {
        "id": "wR0toDKlM6vO"
      }
    },
    {
      "cell_type": "markdown",
      "source": [
        "### Data Wrangling Code"
      ],
      "metadata": {
        "id": "DO-5PafLP50l"
      }
    },
    {
      "cell_type": "code",
      "source": [
        "df.rename(columns={'eventid':'id','iyear':'year','imonth':'month','iday':'day','country_txt':'country_','provstate':'state','region_txt':'region_','attacktype1_txt':'attack_type','target1':'target',\n",
        "                   'nkill':'killed','nwound':'wounded','gname':'group','targtype1_txt':'target_type','weaptype1_txt':'weapon_type'},inplace=True)"
      ],
      "metadata": {
        "id": "LP-05a3s3kt-"
      },
      "execution_count": null,
      "outputs": []
    },
    {
      "cell_type": "code",
      "source": [
        "# Write your code to make your dataset analysis ready.\n",
        "df=df[['id','year','month','day','country_','state','region_','city','latitude','longitude','attack_type','target','killed','wounded','summary','group','target_type','weapon_type','motive']]"
      ],
      "metadata": {
        "id": "PSho83Lr6xbs"
      },
      "execution_count": null,
      "outputs": []
    },
    {
      "cell_type": "code",
      "source": [
        "# replace all the null value of wounded and killed column with 0\n",
        "df.loc[df['wounded'].isna(),'wounded']= 0\n",
        "df.loc[df['killed'].isna(),'killed']= 0"
      ],
      "metadata": {
        "id": "AHgupGO9Oh_G"
      },
      "execution_count": null,
      "outputs": []
    },
    {
      "cell_type": "code",
      "source": [
        "# A new column is created with the name \"casualties\" which contains the sum of the values of total people killed and wounded.\n",
        "df['casualties']= df['killed']+df['wounded']"
      ],
      "metadata": {
        "id": "IO4r7qFa8Pfl"
      },
      "execution_count": null,
      "outputs": []
    },
    {
      "cell_type": "code",
      "source": [
        "#Print out the required dataset with rename columns\n",
        "df.head()"
      ],
      "metadata": {
        "id": "bg8eor9ky-a_"
      },
      "execution_count": null,
      "outputs": []
    },
    {
      "cell_type": "code",
      "source": [
        "df.isnull().sum()"
      ],
      "metadata": {
        "id": "oMLs-xPWzOq9"
      },
      "execution_count": null,
      "outputs": []
    },
    {
      "cell_type": "markdown",
      "source": [
        "### As from above, I have seen that there are lot of missing values in dataset and also there are more numbers of irrelevant columns. So, I choosen only those columns which are useful and renamed them in proper manner. Removing rows with greater than 50% null values."
      ],
      "metadata": {
        "id": "P-w_gwfWNJSN"
      }
    },
    {
      "cell_type": "code",
      "source": [
        "condition= len(df)*0.5\n",
        "df.dropna(thresh=condition,axis=1,inplace=True)"
      ],
      "metadata": {
        "id": "vEnfK9Ga_Ihf"
      },
      "execution_count": null,
      "outputs": []
    },
    {
      "cell_type": "markdown",
      "source": [
        "#### Missing Values/Null Values"
      ],
      "metadata": {
        "id": "lolEUvodYfKq"
      }
    },
    {
      "cell_type": "code",
      "source": [
        "# Missing Values/Null Values Count\n",
        "df.isnull().sum()"
      ],
      "metadata": {
        "id": "Ns_7Vzft0IHJ"
      },
      "execution_count": null,
      "outputs": []
    },
    {
      "cell_type": "code",
      "source": [
        "#show dataframe null value percentage\n",
        "df.isnull().sum()/len(df)*100"
      ],
      "metadata": {
        "id": "CAffm2VFAFsy"
      },
      "execution_count": null,
      "outputs": []
    },
    {
      "cell_type": "markdown",
      "source": [
        "### Variables Description "
      ],
      "metadata": {
        "id": "yGnZyXz6WJ8Y"
      }
    },
    {
      "cell_type": "markdown",
      "source": [
        "Year :- Year of Terrorist Attack\n",
        "\n",
        "Month :- Month of Terrorist Attack\n",
        "\n",
        "Day :- On which Day Terrorist Attack is happend\n",
        "\n",
        "Latitude :- Y Co-ordinates of Terrorist Attack point\n",
        "\n",
        "Longitude :- X Co-ordinate of Terrorist Attack point\n",
        "\n",
        "Region :- Region of Terrorist Attack\n",
        "\n",
        "Country :- Country of Terrorist Attack\n",
        "\n",
        "State :- State of Terrorist Attack\n",
        "\n",
        "City :- City of Terrorist Attack\n",
        "\n",
        "Attack_Type :- Type of Terrorist Attack\n",
        "\n",
        "Killed :- Number of people killed in the Terrorist Attack\n",
        "\n",
        "Gang_Name :- Name of Terrorist Organization\n",
        "\n",
        "Wounded :- Number of people Injured in the Terrorist Attack\n",
        "\n",
        "Main_Target :- Main taget of the Terrorist Attack\n",
        "\n",
        "Sub_Target :- Sub target of Terrorist Attack\n",
        "\n",
        "Weopan_type :- Weopan used in the Terrorist Attack\n",
        "\n",
        "Motive :- Motive of Terrorist Attack\n",
        "\n",
        "Nationality :- Nationality of Terrorist Organization\n",
        "\n",
        "Casualties :- It is the Sum of Number of people killed and Number of people Injured in the Terrorist Attack"
      ],
      "metadata": {
        "id": "XMHOuiNiWMpa"
      }
    },
    {
      "cell_type": "code",
      "source": [
        "df.shape"
      ],
      "metadata": {
        "id": "OSfdjSdgA_XU"
      },
      "execution_count": null,
      "outputs": []
    },
    {
      "cell_type": "markdown",
      "source": [
        "## ***4. Data Vizualization, Storytelling & Experimenting with charts : Understand the relationships between variables***"
      ],
      "metadata": {
        "id": "GF8Ens_Soomf"
      }
    },
    {
      "cell_type": "code",
      "source": [
        "df_copy=df.copy()"
      ],
      "metadata": {
        "id": "tJVZLf5pEetN"
      },
      "execution_count": null,
      "outputs": []
    },
    {
      "cell_type": "code",
      "source": [
        "from sklearn.preprocessing import LabelEncoder"
      ],
      "metadata": {
        "id": "_xE_FGlLFHJK"
      },
      "execution_count": null,
      "outputs": []
    },
    {
      "cell_type": "code",
      "source": [
        "labelencoder=LabelEncoder()\n",
        "for column in df.columns:\n",
        "    df_copy[column] = labelencoder.fit_transform(df_copy[column])"
      ],
      "metadata": {
        "id": "GvZgsFAWFEP_"
      },
      "execution_count": null,
      "outputs": []
    },
    {
      "cell_type": "code",
      "source": [
        "df_copy.head()"
      ],
      "metadata": {
        "id": "L-66oZPxjZyo"
      },
      "execution_count": null,
      "outputs": []
    },
    {
      "cell_type": "markdown",
      "source": [
        "#**Chart - 1 - Heatmap of Correlation matrix for visual understanding** "
      ],
      "metadata": {
        "id": "0wOQAZs5pc--"
      }
    },
    {
      "cell_type": "code",
      "source": [
        "# Chart - 1 visualization code\n",
        "plt.figure(figsize=(18,8))\n",
        "sns.heatmap(df_copy.corr(),linewidths=.1,cmap=\"YlGnBu\", annot=True)\n",
        "plt.yticks(rotation=0);"
      ],
      "metadata": {
        "id": "7v_ESjsspbW7"
      },
      "execution_count": null,
      "outputs": []
    },
    {
      "cell_type": "markdown",
      "source": [
        "##### 1. Why did you pick the specific chart?"
      ],
      "metadata": {
        "id": "K5QZ13OEpz2H"
      }
    },
    {
      "cell_type": "markdown",
      "source": [
        "This specific chart use to show correlation"
      ],
      "metadata": {
        "id": "XESiWehPqBRc"
      }
    },
    {
      "cell_type": "markdown",
      "source": [
        "##### 2. What is/are the insight(s) found from the chart?"
      ],
      "metadata": {
        "id": "lQ7QKXXCp7Bj"
      }
    },
    {
      "cell_type": "markdown",
      "source": [
        "1.Heatmap shows that the wounded and killed are correlated.\n",
        "\n",
        "2.Attack type and weapon used in the attack also hold close ties with each other as attack type is defined based on the weapons used in that incident."
      ],
      "metadata": {
        "id": "C_j1G7yiqdRP"
      }
    },
    {
      "cell_type": "markdown",
      "source": [
        "# **Chart - 2 - Number of Terrorist Attacks per year/ Yearly growth of terrorist attacks.**"
      ],
      "metadata": {
        "id": "4Of9eVA-YrdM"
      }
    },
    {
      "cell_type": "code",
      "source": [
        "# Chart - 2 visualization code\n",
        "Attacks_per_year=df['year'].value_counts()\n",
        "plt.figure(figsize = (25,8))\n",
        "sns.lineplot(Attacks_per_year.index, Attacks_per_year.values)\n",
        "plt.title('Number of Terrorist Attacks per year',fontsize=20)\n",
        "plt.xlabel('Years',fontsize=15)\n",
        "plt.ylabel('Number of attacks',fontsize=15)\n",
        "plt.show()"
      ],
      "metadata": {
        "id": "irlUoxc8YrdO"
      },
      "execution_count": null,
      "outputs": []
    },
    {
      "cell_type": "markdown",
      "source": [
        "##### 1. Why did you pick the specific chart?"
      ],
      "metadata": {
        "id": "iky9q4vBYrdO"
      }
    },
    {
      "cell_type": "markdown",
      "source": [
        "We find out the number of attacks per year using value_counts() method.from this analysis it is clearly seen that there are increase in the number of attacks year by year. So to plot the trend of yearly growth in the terrorim attacks we use line plot."
      ],
      "metadata": {
        "id": "zfJ8IqMcYoAp"
      }
    },
    {
      "cell_type": "markdown",
      "source": [
        "##### 2. What is/are the insight(s) found from the chart?"
      ],
      "metadata": {
        "id": "F6T5p64dYrdO"
      }
    },
    {
      "cell_type": "markdown",
      "source": [
        " 1.From the above graph we can say that After 2004 there is a large growth recorded in terrorist attack.\n",
        "\n",
        " 2.Maximum Number of the attacks were recorded in year 2014\n",
        "\n",
        " 3.Minimum number of attacks were recorded in the year 1971"
      ],
      "metadata": {
        "id": "Xx8WAJvtYrdO"
      }
    },
    {
      "cell_type": "markdown",
      "source": [
        "##### 3. Will the gained insights help creating a positive business impact? \n",
        "Are there any insights that lead to negative growth? Justify with specific reason."
      ],
      "metadata": {
        "id": "y-Ehk30pYrdP"
      }
    },
    {
      "cell_type": "markdown",
      "source": [
        "Yes it will create positive business impact, because the chart shows the number of attack increases year by year so need to take appropriate restriction to minimize those attacks.\n",
        "This will increase disbelive towards government because data shows attaks increases day by day."
      ],
      "metadata": {
        "id": "beTwkepx15Ci"
      }
    },
    {
      "cell_type": "markdown",
      "source": [
        "# **Chart - 3 - Scatter Plot for Distribution of Attacks over the region.**"
      ],
      "metadata": {
        "id": "KSlN3yHqYklG"
      }
    },
    {
      "cell_type": "code",
      "source": [
        "# Chart - 3 visualization code\n",
        "title = 'Distribution of attacks'\n",
        "plt.figure(figsize=(18,10))\n",
        "sns.scatterplot(df.longitude,df.latitude,hue=df.region_).set_title(title)\n",
        "plt.xlim(-200,200)\n",
        "plt.ioff()"
      ],
      "metadata": {
        "id": "R4YgtaqtYklH"
      },
      "execution_count": null,
      "outputs": []
    },
    {
      "cell_type": "markdown",
      "source": [
        "##### 1. Why did you pick the specific chart?"
      ],
      "metadata": {
        "id": "t6dVpIINYklI"
      }
    },
    {
      "cell_type": "markdown",
      "source": [
        "Know the distribution of attecks per region"
      ],
      "metadata": {
        "id": "5aaW0BYyYklI"
      }
    },
    {
      "cell_type": "markdown",
      "source": [
        "##### 2. What is/are the insight(s) found from the chart?"
      ],
      "metadata": {
        "id": "ijmpgYnKYklI"
      }
    },
    {
      "cell_type": "markdown",
      "source": [
        "From this graph we can say that the terreeiosm spread across all over the world but their certion region those are affected more."
      ],
      "metadata": {
        "id": "PSx9atu2YklI"
      }
    },
    {
      "cell_type": "markdown",
      "source": [
        "##### 3. Will the gained insights help creating a positive business impact? \n",
        "Are there any insights that lead to negative growth? Justify with specific reason."
      ],
      "metadata": {
        "id": "-JiQyfWJYklI"
      }
    },
    {
      "cell_type": "markdown",
      "source": [
        "Yes it helps to creating positive business impact,From above plot we know the which region is more affected due to terrorism, so we can increase security in perticular location.\n"
      ],
      "metadata": {
        "id": "BcBbebzrYklV"
      }
    },
    {
      "cell_type": "markdown",
      "source": [
        "# **Chart - 4 - Bar Plot for number of attacks and killed per region.**"
      ],
      "metadata": {
        "id": "EM7whBJCYoAo"
      }
    },
    {
      "cell_type": "code",
      "source": [
        "# region attacks and region killed\n",
        "region_attacks = df['region_'].value_counts()[0:20].to_frame()\n",
        "region_killed =df.groupby(['region_'])['killed'].sum().sort_values(ascending=False).to_frame()\n"
      ],
      "metadata": {
        "id": "K3osflxamGD0"
      },
      "execution_count": null,
      "outputs": []
    },
    {
      "cell_type": "code",
      "source": [
        "# Chart - 4 visualization code\n",
        "# plt.figure(figsize=(20,10))\n",
        "region_attacks=df['region_'].value_counts().to_frame()\n",
        "region_killed=df.groupby(['region_'])['killed'].sum().sort_values(ascending=False).to_frame()\n",
        "region_attacks.merge(region_killed, how = 'left' , left_index = True, right_index = True ).plot.bar(width = 0.8 , color = sns.color_palette('dark',2))\n",
        "fig=plt.gcf()\n",
        "fig.set_size_inches(18,6)\n",
        "plt.title(\"Numbers of attack with killings for each Region\",color=sns.cubehelix_palette(8, start=.5, rot=-.75)[-3],weight='bold',fontsize=25)\n",
        "plt.ylabel(\"Count\" ,fontsize = 15)\n",
        "plt.xlabel(\"Region\",fontsize = 15)\n",
        "plt.show()"
      ],
      "metadata": {
        "id": "t6GMdE67YoAp"
      },
      "execution_count": null,
      "outputs": []
    },
    {
      "cell_type": "markdown",
      "source": [
        "##### 1. Why did you pick the specific chart?"
      ],
      "metadata": {
        "id": "fge-S5ZAYoAp"
      }
    },
    {
      "cell_type": "markdown",
      "source": [
        "From above Bar Plot we know the number of attacks and killed per region(top 10)."
      ],
      "metadata": {
        "id": "5dBItgRVYoAp"
      }
    },
    {
      "cell_type": "markdown",
      "source": [
        "##### 2. What is/are the insight(s) found from the chart?"
      ],
      "metadata": {
        "id": "85gYPyotYoAp"
      }
    },
    {
      "cell_type": "markdown",
      "source": [
        "1.Graph shows Top 10 Most affected region of terrorism.\n",
        "\n",
        "2.We can say that Terrorist Groups are most active in the region of Middle East & North Africa and South Asia."
      ],
      "metadata": {
        "id": "4jstXR6OYoAp"
      }
    },
    {
      "cell_type": "markdown",
      "source": [
        "##### 3. Will the gained insights help creating a positive business impact? \n",
        "Are there any insights that lead to negative growth? Justify with specific reason."
      ],
      "metadata": {
        "id": "RoGjAbkUYoAp"
      }
    },
    {
      "cell_type": "markdown",
      "source": [
        "Yes the bar plot is helps to create positive impact, it help to corelate the number of attacks with the number of people kill per region"
      ],
      "metadata": {
        "id": "jLNxxz7MYrdP"
      }
    },
    {
      "cell_type": "markdown",
      "source": [
        "# **Chart - 5 - Analysis of Iraq country by using different charts.**"
      ],
      "metadata": {
        "id": "bamQiAODYuh1"
      }
    },
    {
      "cell_type": "code",
      "source": [
        "# Chart - 5 visualization code\n",
        "def country_analysis(data , Country=None, line_color=None , palette=None , title =None):\n",
        "    plt.figure(figsize = (20,10))\n",
        "    #Plot 1\n",
        "    plt.subplot(2,2,1)\n",
        "    sns.countplot(y = data.loc[data['country_'] == Country]['city'] ,\\\n",
        "                  order = data.loc[data.country_ == Country].city.value_counts()[:10].index,\\\n",
        "                  data = data ,\\\n",
        "                  palette = sns.color_palette(palette,10),\\\n",
        "                  edgecolor = sns.color_palette('dark',5))\n",
        "    plt.xticks(rotation = 90)\n",
        "    plt.title(f\"Terror attacks on Top 10 cities of {Country}\",weight = 'bold' ,fontsize = 15 ,loc = 'center')\n",
        "    plt.xlabel('Count',fontsize = 15)\n",
        "    plt.ylabel('City',fontsize = 15)\n",
        "\n",
        "    #Plot 2\n",
        "    plt.subplot(2,2,3)\n",
        "    sns.countplot(x = data.query('country_ == @Country').group,\\\n",
        "                  data = data ,\\\n",
        "                  order = data.query('country_ == @Country').group.value_counts()[:10].index[1:],\\\n",
        "                  palette = sns.color_palette(palette,7),\\\n",
        "                  edgecolor = sns.color_palette('dark',5))\n",
        "    plt.title(f\"Terrorist Groups active/were active in {Country}\",weight = 'bold' ,fontsize = 15 , loc = 'center')\n",
        "    plt.xticks(rotation =90)\n",
        "    plt.xlabel('Group',fontsize = 15)\n",
        "    plt.ylabel('Attack Count',fontsize = 15)\n",
        "    \n",
        "    # Plot 3\n",
        "    plt.subplot(2,2,2)\n",
        "    data.query('country_ == @Country').groupby(['year'])['casualties'].sum().plot(xticks = data.loc[data.country_ == Country].groupby(['year'])['casualties'].sum().index, rot=90 , color = line_color)\n",
        "    plt.title(f\"Total casualities from (1970 - 2017) in {Country}\", fontdict = {'fontsize' : 15 , 'weight': 'bold' } , loc = 'center')\n",
        "    plt.ylabel(\"Casualities\" ,fontsize = 15)\n",
        "    plt.xlabel('Year',fontsize = 15)\n",
        "\n",
        "    #plot 4\n",
        "    plt.subplot(2,2,4)\n",
        "    sns.countplot(y = data.loc[data['country_'] == Country]['target_type'] ,\\\n",
        "                  order = data.loc[data.country_ == Country].target_type.value_counts()[:10].index,\\\n",
        "                  data = data ,\\\n",
        "                  palette = sns.color_palette(palette,10),\\\n",
        "                  edgecolor = sns.color_palette('dark',5))\n",
        "    plt.title(f\"Most Attacked Targets by Terrorism Groups in {Country}\",fontsize=15,weight='bold',loc='center')\n",
        "    plt.xlabel('Target type',fontsize=15)\n",
        "    plt.ylabel('Number of Attacks',fontsize=15)\n",
        "\n",
        "    plt.subplots_adjust(wspace = 1 ,hspace =0.5 ,top = 0.5 , bottom = 0.1) \n",
        "    plt.tight_layout()  \n",
        "    plt.show()"
      ],
      "metadata": {
        "id": "TIJwrbroYuh3"
      },
      "execution_count": null,
      "outputs": []
    },
    {
      "cell_type": "code",
      "source": [
        "# Analysis of Iraq country\n",
        "country_analysis(df, Country ='Iraq', palette = 'inferno', line_color = 'crimson')"
      ],
      "metadata": {
        "id": "XmCR2QtIL761"
      },
      "execution_count": null,
      "outputs": []
    },
    {
      "cell_type": "markdown",
      "source": [
        "##### 1. Why did you pick the specific chart?"
      ],
      "metadata": {
        "id": "QHF8YVU7Yuh3"
      }
    },
    {
      "cell_type": "markdown",
      "source": [
        "Here we are doing the country wise analysis of terrorist attacks and by using the bar plot we can easily find out the most affected city and most safe city of the country. also most active terrorist organization in the respective country and what are the main targets of terrortis attack by geting exact figures. We can also find out the trends in the casulties from the year 1970 to 2017."
      ],
      "metadata": {
        "id": "dcxuIMRPYuh3"
      }
    },
    {
      "cell_type": "markdown",
      "source": [
        "##### 2. What is/are the insight(s) found from the chart?"
      ],
      "metadata": {
        "id": "GwzvFGzlYuh3"
      }
    },
    {
      "cell_type": "markdown",
      "source": [
        "1.Here we did the analysis of most affected country of terrorism Iraq.\n",
        "\n",
        "2.most number of attacks happen in the Baghdad city of iraq\n",
        "\n",
        "3.Islamic state of iraq and the levant (ISIL) is the most active terrorist organization in the country which record highest attacks\n",
        "\n",
        "4.The number of casualties increases per year till 2014 later it is decreses.\n",
        "\n",
        "5.Main target of terrorist is private Citizens and Property followed by Police,Millitary,and Government"
      ],
      "metadata": {
        "id": "uyqkiB8YYuh3"
      }
    },
    {
      "cell_type": "markdown",
      "source": [
        "# **Chart - 6 - Analysis of India country by using different charts.**"
      ],
      "metadata": {
        "id": "OH-pJp9IphqM"
      }
    },
    {
      "cell_type": "code",
      "source": [
        "# Chart - 6 visualization code\n",
        "# Analysis of India country\n",
        "country_analysis(df, Country ='India', palette = 'inferno', line_color = 'crimson')"
      ],
      "metadata": {
        "id": "kuRf4wtuphqN"
      },
      "execution_count": null,
      "outputs": []
    },
    {
      "cell_type": "markdown",
      "source": [
        "##### 1. Why did you pick the specific chart?"
      ],
      "metadata": {
        "id": "bbFf2-_FphqN"
      }
    },
    {
      "cell_type": "markdown",
      "source": [
        "Here we are doing the country wise analysis of terrorist attacks and by using the bar plot we can easily find out the most affected city and most safe city of the country. also most active terrorist organization in the respective country and what are the main targets of terrortis attack by geting exact figures. We can also find out the trends in the casulties from the year 1970 to 2017."
      ],
      "metadata": {
        "id": "loh7H2nzphqN"
      }
    },
    {
      "cell_type": "markdown",
      "source": [
        "##### 2. What is/are the insight(s) found from the chart?"
      ],
      "metadata": {
        "id": "_ouA3fa0phqN"
      }
    },
    {
      "cell_type": "markdown",
      "source": [
        "1.Here we did the analysis of most affected country of terrorism India.\n",
        "\n",
        "2.most number of attacks happen in the Shrinagar city of India\n",
        "\n",
        "3.Communist party of india-Maoist(cpi-Maoist) is the most active terrorist organization in the country which record highest attacks\n",
        "\n",
        "4.The number of casualties varries per year from 1985 to 2014.\n",
        "\n",
        "5.Main target of terrorist is private Citizens and Property followed by Police,Government and Business."
      ],
      "metadata": {
        "id": "VECbqPI7phqN"
      }
    },
    {
      "cell_type": "markdown",
      "source": [
        "# **Chart - 7 -  Distribution of top 5 weopan used in terrorism activity using Pie-Chart.**"
      ],
      "metadata": {
        "id": "JDlrCZx0NNOd"
      }
    },
    {
      "cell_type": "code",
      "source": [
        "# Chart-7 Visualization code\n",
        "#Basic pie chart to view distribution of top 5 weopan used in terrorism activity\n",
        "\n",
        "plt.figure(figsize=(20,10))\n",
        "explode=(0.01,0.05,0.1,0.1,0.1)\n",
        "plt.pie(df['weapon_type'].value_counts()[0:5], labels=df['weapon_type'].value_counts().index[0:5],autopct='%1.2f%%',explode=explode,shadow=True,textprops={'fontsize': 12})\n",
        "my_circle = plt.Circle( (0,0), 0.40, color='white')\n",
        "p=plt.gcf()\n",
        "p.gca().add_artist(my_circle)\n",
        "plt.title('% of weopan used by Terrorist Organization', fontsize = 15)\n",
        "plt.show()"
      ],
      "metadata": {
        "id": "FxxT-xG1QpDZ"
      },
      "execution_count": null,
      "outputs": []
    },
    {
      "cell_type": "markdown",
      "source": [
        "##### 1. Why did you pick the specific chart?"
      ],
      "metadata": {
        "id": "xm0QoYucNoY6"
      }
    },
    {
      "cell_type": "markdown",
      "source": [
        "Pie chart districution is used to show the percentage of top 5 weopan used in terrorism activity"
      ],
      "metadata": {
        "id": "aHnC95L4NqBi"
      }
    },
    {
      "cell_type": "markdown",
      "source": [
        "##### 2. What is/are the insight(s) found from the chart?"
      ],
      "metadata": {
        "id": "GdJ0UjPgNsVE"
      }
    },
    {
      "cell_type": "markdown",
      "source": [
        "It seen that explosives were used in around 51.09% of the attacks, followed by Firearms accounted for 32.35% of the attacks."
      ],
      "metadata": {
        "id": "QZYmdJhiNwzo"
      }
    },
    {
      "cell_type": "markdown",
      "source": [
        "##### 3. Will the gained insights help creating a positive business impact? \n",
        "Are there any insights that lead to negative growth? Justify with specific reason."
      ],
      "metadata": {
        "id": "fkO0qSxmNxTe"
      }
    },
    {
      "cell_type": "markdown",
      "source": [
        "Yes this data create positive business impact, from this data we know the probability of attack with what explosive."
      ],
      "metadata": {
        "id": "LLj3Q9_zN210"
      }
    },
    {
      "cell_type": "markdown",
      "source": [
        "# **Conclusion**"
      ],
      "metadata": {
        "id": "gCX9965dhzqZ"
      }
    },
    {
      "cell_type": "markdown",
      "source": [
        "***1. \"Taliban\" is the most powerful, dangerous and the most active gang among all of the gangs, followed by \"islamic state of iraq and the levant(isil)\" and \"shining path(SL)\".***\n",
        "\n",
        "***2. The most targetted attacks are on \"Private Citizens & Property\" which is approximately 40% and 10-20% is the target on \"Military\", \"Police\", \"Government\", \"Business\".***\n",
        "\n",
        "***3. It was clear that numbers of terrorist attacks were increases from 2002-2004.\n",
        "Most of the attacks were done on year 2014 and\n",
        "Iraq is the most affected country from terrorism because most of the peoples killed in iraq. In Iraq maximum of 1570 peoples killed in single attack.\n",
        "As expected Baghdad is most affected city(and yes this is also called province).***\n",
        "\n",
        "***4. Among all the regions \"Middle East & North Africa\" has the most number of killed people approx 1.4 Lakhs followed by \"South-Asia\" & \"Sub-saharan Africa***\n",
        "\n",
        "***5. \"It seen that explosives were used in around 51.38% of the attacks, followed by Firearms accounted for 32.04% of the attacks\".***"
      ],
      "metadata": {
        "id": "Fjb1IsQkh3yE"
      }
    }
  ]
}